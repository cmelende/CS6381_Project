{
 "cells": [
  {
   "cell_type": "code",
   "execution_count": 1,
   "metadata": {
    "collapsed": true
   },
   "outputs": [],
   "source": [
    "import matplotlib.pyplot as plt\n",
    "import pandas as pd\n",
    "import seaborn as sns\n",
    "\n",
    "from DataExploration.dexp import DataExplorationFrameFactory, StatisticsReport, DataframeUtils\n",
    "from dexp.MergedResultFactory import MergedResultFactory\n",
    "\n",
    "# plt.rcParams[\"figure.figsize\"] = [25.50, 125.50]\n",
    "# plt.rcParams[\"figure.autolayout\"] = True\n",
    "# sns.set(font_scale=4)"
   ]
  },
  {
   "cell_type": "code",
   "execution_count": 2,
   "metadata": {
    "pycharm": {
     "name": "#%%\n"
    }
   },
   "outputs": [],
   "source": [
    "# constants\n",
    "notifier_data_path = \"../performance_tests/notifier\"\n",
    "pub_sub_data_path = \"../performance_tests/pubsub\""
   ]
  },
  {
   "cell_type": "code",
   "execution_count": 3,
   "metadata": {
    "pycharm": {
     "name": "#%%\n"
    }
   },
   "outputs": [],
   "source": [
    "notifier_dfs = DataExplorationFrameFactory.generate_notifier_dataframes(notifier_data_path)\n",
    "pub_sub_dfs = DataExplorationFrameFactory.generate_pub_sub_dataframes(pub_sub_data_path)\n",
    "factory = MergedResultFactory(notifier_dfs, pub_sub_dfs)\n",
    "df = factory.combine_dfs()"
   ]
  },
  {
   "cell_type": "code",
   "execution_count": 4,
   "metadata": {
    "pycharm": {
     "name": "#%%\n"
    }
   },
   "outputs": [
    {
     "data": {
      "text/html": [
       "<div>\n",
       "<style scoped>\n",
       "    .dataframe tbody tr th:only-of-type {\n",
       "        vertical-align: middle;\n",
       "    }\n",
       "\n",
       "    .dataframe tbody tr th {\n",
       "        vertical-align: top;\n",
       "    }\n",
       "\n",
       "    .dataframe thead th {\n",
       "        text-align: right;\n",
       "    }\n",
       "</style>\n",
       "<table border=\"1\" class=\"dataframe\">\n",
       "  <thead>\n",
       "    <tr style=\"text-align: right;\">\n",
       "      <th></th>\n",
       "      <th>sub_count</th>\n",
       "      <th>Q1</th>\n",
       "      <th>Q2</th>\n",
       "      <th>Q3</th>\n",
       "      <th>Q4</th>\n",
       "      <th>Standard Deviation</th>\n",
       "      <th>Median</th>\n",
       "      <th>Mode</th>\n",
       "    </tr>\n",
       "  </thead>\n",
       "  <tbody>\n",
       "    <tr>\n",
       "      <th>0</th>\n",
       "      <td>2</td>\n",
       "      <td>0.000195</td>\n",
       "      <td>0.000223</td>\n",
       "      <td>0.000244</td>\n",
       "      <td>0.009202</td>\n",
       "      <td>0.000236</td>\n",
       "      <td>0.000223</td>\n",
       "      <td>0.0002262592315673,0.0002534389495849</td>\n",
       "    </tr>\n",
       "    <tr>\n",
       "      <th>1</th>\n",
       "      <td>4</td>\n",
       "      <td>0.000266</td>\n",
       "      <td>0.000301</td>\n",
       "      <td>0.000353</td>\n",
       "      <td>0.015247</td>\n",
       "      <td>0.000682</td>\n",
       "      <td>0.000301</td>\n",
       "      <td>0.0002634525299072,0.0002651214599609</td>\n",
       "    </tr>\n",
       "    <tr>\n",
       "      <th>2</th>\n",
       "      <td>8</td>\n",
       "      <td>0.000413</td>\n",
       "      <td>0.000615</td>\n",
       "      <td>0.004397</td>\n",
       "      <td>0.027805</td>\n",
       "      <td>0.003982</td>\n",
       "      <td>0.000615</td>\n",
       "      <td>0.0004200935363769</td>\n",
       "    </tr>\n",
       "    <tr>\n",
       "      <th>3</th>\n",
       "      <td>16</td>\n",
       "      <td>0.000926</td>\n",
       "      <td>0.003552</td>\n",
       "      <td>0.008991</td>\n",
       "      <td>0.048272</td>\n",
       "      <td>0.006131</td>\n",
       "      <td>0.003552</td>\n",
       "      <td>0.0007007122039794</td>\n",
       "    </tr>\n",
       "    <tr>\n",
       "      <th>4</th>\n",
       "      <td>32</td>\n",
       "      <td>0.001098</td>\n",
       "      <td>0.001518</td>\n",
       "      <td>0.012216</td>\n",
       "      <td>0.100537</td>\n",
       "      <td>0.007890</td>\n",
       "      <td>0.001518</td>\n",
       "      <td>0.0012848377227783</td>\n",
       "    </tr>\n",
       "    <tr>\n",
       "      <th>5</th>\n",
       "      <td>64</td>\n",
       "      <td>0.002128</td>\n",
       "      <td>0.007466</td>\n",
       "      <td>0.016346</td>\n",
       "      <td>0.087533</td>\n",
       "      <td>0.010076</td>\n",
       "      <td>0.007466</td>\n",
       "      <td>0.0021042823791503</td>\n",
       "    </tr>\n",
       "    <tr>\n",
       "      <th>6</th>\n",
       "      <td>128</td>\n",
       "      <td>0.003581</td>\n",
       "      <td>0.006019</td>\n",
       "      <td>0.011438</td>\n",
       "      <td>0.090810</td>\n",
       "      <td>0.007366</td>\n",
       "      <td>0.006019</td>\n",
       "      <td>0.0034835338592529</td>\n",
       "    </tr>\n",
       "    <tr>\n",
       "      <th>7</th>\n",
       "      <td>256</td>\n",
       "      <td>0.005947</td>\n",
       "      <td>0.008741</td>\n",
       "      <td>0.014162</td>\n",
       "      <td>0.116409</td>\n",
       "      <td>0.007829</td>\n",
       "      <td>0.008741</td>\n",
       "      <td>0.0056877136230468</td>\n",
       "    </tr>\n",
       "    <tr>\n",
       "      <th>8</th>\n",
       "      <td>512</td>\n",
       "      <td>0.010169</td>\n",
       "      <td>0.015024</td>\n",
       "      <td>0.022778</td>\n",
       "      <td>0.184324</td>\n",
       "      <td>0.011210</td>\n",
       "      <td>0.015024</td>\n",
       "      <td>0.0097336769104003,0.0100049972534179</td>\n",
       "    </tr>\n",
       "  </tbody>\n",
       "</table>\n",
       "</div>"
      ],
      "text/plain": [
       "   sub_count        Q1        Q2        Q3        Q4  Standard Deviation  \\\n",
       "0          2  0.000195  0.000223  0.000244  0.009202            0.000236   \n",
       "1          4  0.000266  0.000301  0.000353  0.015247            0.000682   \n",
       "2          8  0.000413  0.000615  0.004397  0.027805            0.003982   \n",
       "3         16  0.000926  0.003552  0.008991  0.048272            0.006131   \n",
       "4         32  0.001098  0.001518  0.012216  0.100537            0.007890   \n",
       "5         64  0.002128  0.007466  0.016346  0.087533            0.010076   \n",
       "6        128  0.003581  0.006019  0.011438  0.090810            0.007366   \n",
       "7        256  0.005947  0.008741  0.014162  0.116409            0.007829   \n",
       "8        512  0.010169  0.015024  0.022778  0.184324            0.011210   \n",
       "\n",
       "     Median                                   Mode  \n",
       "0  0.000223  0.0002262592315673,0.0002534389495849  \n",
       "1  0.000301  0.0002634525299072,0.0002651214599609  \n",
       "2  0.000615                     0.0004200935363769  \n",
       "3  0.003552                     0.0007007122039794  \n",
       "4  0.001518                     0.0012848377227783  \n",
       "5  0.007466                     0.0021042823791503  \n",
       "6  0.006019                     0.0034835338592529  \n",
       "7  0.008741                     0.0056877136230468  \n",
       "8  0.015024  0.0097336769104003,0.0100049972534179  "
      ]
     },
     "execution_count": 4,
     "metadata": {},
     "output_type": "execute_result"
    }
   ],
   "source": [
    "pd.set_option(\"display.max_rows\", None, \"display.max_columns\", None)\n",
    "notifier_stats_report = StatisticsReport(notifier_dfs)\n",
    "stats_df = notifier_stats_report.create_dataframe()\n",
    "stats_df.head(n = 50)"
   ]
  },
  {
   "cell_type": "code",
   "execution_count": 9,
   "metadata": {
    "pycharm": {
     "name": "#%%\n"
    }
   },
   "outputs": [
    {
     "data": {
      "text/html": [
       "<div>\n",
       "<style scoped>\n",
       "    .dataframe tbody tr th:only-of-type {\n",
       "        vertical-align: middle;\n",
       "    }\n",
       "\n",
       "    .dataframe tbody tr th {\n",
       "        vertical-align: top;\n",
       "    }\n",
       "\n",
       "    .dataframe thead th {\n",
       "        text-align: right;\n",
       "    }\n",
       "</style>\n",
       "<table border=\"1\" class=\"dataframe\">\n",
       "  <thead>\n",
       "    <tr style=\"text-align: right;\">\n",
       "      <th></th>\n",
       "      <th>sub_count</th>\n",
       "      <th>Q1</th>\n",
       "      <th>Q2</th>\n",
       "      <th>Q3</th>\n",
       "      <th>Q4</th>\n",
       "      <th>Standard Deviation</th>\n",
       "      <th>Median</th>\n",
       "      <th>Mode</th>\n",
       "    </tr>\n",
       "  </thead>\n",
       "  <tbody>\n",
       "    <tr>\n",
       "      <th>0</th>\n",
       "      <td>2</td>\n",
       "      <td>0.000407</td>\n",
       "      <td>0.000463</td>\n",
       "      <td>0.000507</td>\n",
       "      <td>0.005685</td>\n",
       "      <td>0.000265</td>\n",
       "      <td>0.000463</td>\n",
       "      <td>0.0004827976226806</td>\n",
       "    </tr>\n",
       "    <tr>\n",
       "      <th>1</th>\n",
       "      <td>4</td>\n",
       "      <td>0.000432</td>\n",
       "      <td>0.000504</td>\n",
       "      <td>0.000587</td>\n",
       "      <td>0.005787</td>\n",
       "      <td>0.000274</td>\n",
       "      <td>0.000504</td>\n",
       "      <td>0.0004889965057373,0.0005502700805664</td>\n",
       "    </tr>\n",
       "    <tr>\n",
       "      <th>2</th>\n",
       "      <td>8</td>\n",
       "      <td>0.000526</td>\n",
       "      <td>0.000679</td>\n",
       "      <td>0.000876</td>\n",
       "      <td>0.008378</td>\n",
       "      <td>0.000462</td>\n",
       "      <td>0.000679</td>\n",
       "      <td>0.0006325244903564</td>\n",
       "    </tr>\n",
       "    <tr>\n",
       "      <th>3</th>\n",
       "      <td>16</td>\n",
       "      <td>0.000698</td>\n",
       "      <td>0.001031</td>\n",
       "      <td>0.001411</td>\n",
       "      <td>0.006790</td>\n",
       "      <td>0.000622</td>\n",
       "      <td>0.001031</td>\n",
       "      <td>0.0005297660827636</td>\n",
       "    </tr>\n",
       "    <tr>\n",
       "      <th>4</th>\n",
       "      <td>32</td>\n",
       "      <td>0.007700</td>\n",
       "      <td>0.009258</td>\n",
       "      <td>0.010685</td>\n",
       "      <td>0.013914</td>\n",
       "      <td>0.001531</td>\n",
       "      <td>0.009258</td>\n",
       "      <td>0.010692596,0.010741472,0.010764599,0.01091814</td>\n",
       "    </tr>\n",
       "    <tr>\n",
       "      <th>5</th>\n",
       "      <td>64</td>\n",
       "      <td>0.006693</td>\n",
       "      <td>0.007185</td>\n",
       "      <td>0.008006</td>\n",
       "      <td>0.010289</td>\n",
       "      <td>0.000858</td>\n",
       "      <td>0.007185</td>\n",
       "      <td>0.007036924</td>\n",
       "    </tr>\n",
       "    <tr>\n",
       "      <th>6</th>\n",
       "      <td>128</td>\n",
       "      <td>0.018919</td>\n",
       "      <td>0.019624</td>\n",
       "      <td>0.020320</td>\n",
       "      <td>0.023540</td>\n",
       "      <td>0.001001</td>\n",
       "      <td>0.019624</td>\n",
       "      <td>0.019490719,0.019723177,0.020088196</td>\n",
       "    </tr>\n",
       "    <tr>\n",
       "      <th>7</th>\n",
       "      <td>256</td>\n",
       "      <td>0.023894</td>\n",
       "      <td>0.024920</td>\n",
       "      <td>0.025939</td>\n",
       "      <td>0.029740</td>\n",
       "      <td>0.001281</td>\n",
       "      <td>0.024920</td>\n",
       "      <td>0.025294542</td>\n",
       "    </tr>\n",
       "    <tr>\n",
       "      <th>8</th>\n",
       "      <td>512</td>\n",
       "      <td>0.027705</td>\n",
       "      <td>0.029886</td>\n",
       "      <td>0.032012</td>\n",
       "      <td>0.039413</td>\n",
       "      <td>0.002637</td>\n",
       "      <td>0.029886</td>\n",
       "      <td>0.02978158</td>\n",
       "    </tr>\n",
       "  </tbody>\n",
       "</table>\n",
       "</div>"
      ],
      "text/plain": [
       "   sub_count        Q1        Q2        Q3        Q4  Standard Deviation  \\\n",
       "0          2  0.000407  0.000463  0.000507  0.005685            0.000265   \n",
       "1          4  0.000432  0.000504  0.000587  0.005787            0.000274   \n",
       "2          8  0.000526  0.000679  0.000876  0.008378            0.000462   \n",
       "3         16  0.000698  0.001031  0.001411  0.006790            0.000622   \n",
       "4         32  0.007700  0.009258  0.010685  0.013914            0.001531   \n",
       "5         64  0.006693  0.007185  0.008006  0.010289            0.000858   \n",
       "6        128  0.018919  0.019624  0.020320  0.023540            0.001001   \n",
       "7        256  0.023894  0.024920  0.025939  0.029740            0.001281   \n",
       "8        512  0.027705  0.029886  0.032012  0.039413            0.002637   \n",
       "\n",
       "     Median                                            Mode  \n",
       "0  0.000463                              0.0004827976226806  \n",
       "1  0.000504           0.0004889965057373,0.0005502700805664  \n",
       "2  0.000679                              0.0006325244903564  \n",
       "3  0.001031                              0.0005297660827636  \n",
       "4  0.009258  0.010692596,0.010741472,0.010764599,0.01091814  \n",
       "5  0.007185                                     0.007036924  \n",
       "6  0.019624             0.019490719,0.019723177,0.020088196  \n",
       "7  0.024920                                     0.025294542  \n",
       "8  0.029886                                      0.02978158  "
      ]
     },
     "execution_count": 9,
     "metadata": {},
     "output_type": "execute_result"
    }
   ],
   "source": [
    "pub_sub_stats_report = StatisticsReport(pub_sub_dfs)\n",
    "pub_sub_stats_df = pub_sub_stats_report.create_dataframe()\n",
    "pub_sub_stats_df.head(n = 50)"
   ]
  },
  {
   "cell_type": "code",
   "execution_count": 6,
   "metadata": {
    "pycharm": {
     "name": "#%%\n"
    }
   },
   "outputs": [
    {
     "data": {
      "text/plain": [
       "<AxesSubplot:xlabel='subscriber_count', ylabel='latency'>"
      ]
     },
     "execution_count": 6,
     "metadata": {},
     "output_type": "execute_result"
    },
    {
     "data": {
      "image/png": "[encoded data removed]",
      "text/plain": [
       "<Figure size 432x288 with 1 Axes>"
      ]
     },
     "metadata": {
      "needs_background": "light"
     },
     "output_type": "display_data"
    }
   ],
   "source": [
    "bp = sns.boxplot(x=\"subscriber_count\", y=\"latency\", hue=\"type\",data=df, palette=\"Set3\")\n",
    "bp"
   ]
  },
  {
   "cell_type": "code",
   "execution_count": 7,
   "metadata": {
    "pycharm": {
     "name": "#%%\n"
    }
   },
   "outputs": [
    {
     "data": {
      "image/png": "[encoded data removed]",
      "text/plain": [
       "<Figure size 432x288 with 1 Axes>"
      ]
     },
     "metadata": {
      "needs_background": "light"
     },
     "output_type": "display_data"
    }
   ],
   "source": [
    "line_plot_with_median_df = DataframeUtils.create_median_dataframes(notifier_dfs, pub_sub_dfs, \"median\")\n",
    "lp_mode = sns.lineplot(data=line_plot_with_median_df, x=\"subscriber_count\", y=\"median\", hue=\"type\")"
   ]
  },
  {
   "cell_type": "code",
   "execution_count": 8,
   "metadata": {
    "pycharm": {
     "name": "#%%\n"
    }
   },
   "outputs": [
    {
     "data": {
      "image/png": "[encoded data removed]",
      "text/plain": [
       "<Figure size 432x288 with 1 Axes>"
      ]
     },
     "metadata": {
      "needs_background": "light"
     },
     "output_type": "display_data"
    }
   ],
   "source": [
    "line_plot_with_mean_df = DataframeUtils.create_median_dataframes(notifier_dfs,pub_sub_dfs, \"mean\")\n",
    "lp_mean = sns.lineplot(data=line_plot_with_mean_df, x=\"subscriber_count\", y=\"mean\", hue=\"type\")"
   ]
  }
 ],
 "metadata": {
  "kernelspec": {
   "display_name": "Python 3",
   "language": "python",
   "name": "python3"
  },
  "language_info": {
   "codemirror_mode": {
    "name": "ipython",
    "version": 3
   },
   "file_extension": ".py",
   "mimetype": "text/x-python",
   "name": "python",
   "nbconvert_exporter": "python",
   "pygments_lexer": "ipython3",
   "version": "3.9.0"
  }
 },
 "nbformat": 4,
 "nbformat_minor": 1
}
